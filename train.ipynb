{
 "cells": [
  {
   "cell_type": "code",
   "execution_count": 8,
   "id": "455d0ef2",
   "metadata": {},
   "outputs": [],
   "source": [
    "import os"
   ]
  },
  {
   "cell_type": "code",
   "execution_count": 9,
   "id": "de9289f1",
   "metadata": {},
   "outputs": [],
   "source": [
    "from keras.preprocessing import image"
   ]
  },
  {
   "cell_type": "code",
   "execution_count": 10,
   "id": "73aecef8",
   "metadata": {},
   "outputs": [],
   "source": [
    "import cv2"
   ]
  },
  {
   "cell_type": "code",
   "execution_count": 11,
   "id": "21ebf49a",
   "metadata": {},
   "outputs": [],
   "source": [
    "categories = ['with_mask', 'without_mask']"
   ]
  },
  {
   "cell_type": "code",
   "execution_count": 17,
   "id": "217183ab",
   "metadata": {},
   "outputs": [],
   "source": [
    "data = []\n",
    "for category in categories:\n",
    "    path = os.path.join('train',category)\n",
    "    label = categories.index(category)\n",
    "    for file in os.listdir(path):\n",
    "        img_path = os.path.join(path, file)\n",
    "        img = cv2.imread(img_path)\n",
    "        img = cv2.resize(img, (224,224))\n",
    "        data.append([img, label])"
   ]
  },
  {
   "cell_type": "code",
   "execution_count": 20,
   "id": "ad3722c5",
   "metadata": {},
   "outputs": [],
   "source": [
    "import random"
   ]
  },
  {
   "cell_type": "code",
   "execution_count": 21,
   "id": "91827e1d",
   "metadata": {},
   "outputs": [],
   "source": [
    "random.shuffle(data)"
   ]
  },
  {
   "cell_type": "code",
   "execution_count": 22,
   "id": "60d4cd05",
   "metadata": {},
   "outputs": [],
   "source": [
    "X = []\n",
    "y = []\n",
    "\n",
    "for feature, label in data:\n",
    "    X.append(feature)\n",
    "    y.append(label)"
   ]
  },
  {
   "cell_type": "code",
   "execution_count": 44,
   "id": "34459acb",
   "metadata": {},
   "outputs": [],
   "source": [
    "import numpy as np"
   ]
  },
  {
   "cell_type": "code",
   "execution_count": 45,
   "id": "4d6bfbbb",
   "metadata": {},
   "outputs": [],
   "source": [
    "X = np.array(X)\n",
    "y = np.array(y)"
   ]
  },
  {
   "cell_type": "code",
   "execution_count": 46,
   "id": "8b40759e",
   "metadata": {},
   "outputs": [
    {
     "data": {
      "text/plain": [
       "(1279, 224, 224, 3)"
      ]
     },
     "execution_count": 46,
     "metadata": {},
     "output_type": "execute_result"
    }
   ],
   "source": [
    "X.shape"
   ]
  },
  {
   "cell_type": "code",
   "execution_count": 47,
   "id": "fd76b8d7",
   "metadata": {},
   "outputs": [
    {
     "data": {
      "text/plain": [
       "(1279,)"
      ]
     },
     "execution_count": 47,
     "metadata": {},
     "output_type": "execute_result"
    }
   ],
   "source": [
    "y.shape"
   ]
  },
  {
   "cell_type": "code",
   "execution_count": 49,
   "id": "2ae225d6",
   "metadata": {},
   "outputs": [],
   "source": [
    "X = X/255"
   ]
  },
  {
   "cell_type": "code",
   "execution_count": 50,
   "id": "76defd88",
   "metadata": {},
   "outputs": [
    {
     "data": {
      "text/plain": [
       "array([[[[0.96862745, 0.98431373, 0.98823529],\n",
       "         [0.98039216, 0.99607843, 1.        ],\n",
       "         [0.96470588, 0.98039216, 0.98431373],\n",
       "         ...,\n",
       "         [1.        , 1.        , 1.        ],\n",
       "         [1.        , 1.        , 1.        ],\n",
       "         [1.        , 1.        , 1.        ]],\n",
       "\n",
       "        [[0.97254902, 0.98823529, 0.99215686],\n",
       "         [0.96470588, 0.98039216, 0.98431373],\n",
       "         [0.98039216, 0.99607843, 0.99607843],\n",
       "         ...,\n",
       "         [1.        , 1.        , 1.        ],\n",
       "         [1.        , 1.        , 1.        ],\n",
       "         [1.        , 1.        , 1.        ]],\n",
       "\n",
       "        [[0.96470588, 0.98039216, 0.98039216],\n",
       "         [0.94901961, 0.96470588, 0.96862745],\n",
       "         [0.92941176, 0.94509804, 0.94901961],\n",
       "         ...,\n",
       "         [1.        , 1.        , 1.        ],\n",
       "         [1.        , 1.        , 1.        ],\n",
       "         [1.        , 1.        , 1.        ]],\n",
       "\n",
       "        ...,\n",
       "\n",
       "        [[0.23137255, 0.22745098, 0.25098039],\n",
       "         [0.15294118, 0.15294118, 0.17647059],\n",
       "         [0.05490196, 0.05490196, 0.0745098 ],\n",
       "         ...,\n",
       "         [1.        , 1.        , 1.        ],\n",
       "         [0.99607843, 1.        , 0.99215686],\n",
       "         [0.99215686, 0.99607843, 0.98823529]],\n",
       "\n",
       "        [[0.03529412, 0.04705882, 0.0627451 ],\n",
       "         [0.20392157, 0.21176471, 0.22745098],\n",
       "         [0.25098039, 0.25490196, 0.27058824],\n",
       "         ...,\n",
       "         [0.99607843, 0.99607843, 0.99607843],\n",
       "         [1.        , 1.        , 1.        ],\n",
       "         [1.        , 1.        , 1.        ]],\n",
       "\n",
       "        [[0.62745098, 0.64313725, 0.64705882],\n",
       "         [0.67843137, 0.69019608, 0.69411765],\n",
       "         [0.57254902, 0.58039216, 0.58431373],\n",
       "         ...,\n",
       "         [0.99607843, 0.99215686, 1.        ],\n",
       "         [1.        , 0.99607843, 1.        ],\n",
       "         [1.        , 0.99607843, 1.        ]]],\n",
       "\n",
       "\n",
       "       [[[0.74901961, 0.85882353, 0.83529412],\n",
       "         [0.74509804, 0.85490196, 0.83137255],\n",
       "         [0.7372549 , 0.85098039, 0.82745098],\n",
       "         ...,\n",
       "         [0.98431373, 0.98431373, 0.98431373],\n",
       "         [0.99215686, 0.99607843, 0.98823529],\n",
       "         [0.99215686, 0.99607843, 0.98823529]],\n",
       "\n",
       "        [[0.74901961, 0.85882353, 0.83529412],\n",
       "         [0.74509804, 0.85490196, 0.83137255],\n",
       "         [0.74117647, 0.85098039, 0.82745098],\n",
       "         ...,\n",
       "         [0.98431373, 0.98431373, 0.98431373],\n",
       "         [0.99215686, 0.99607843, 0.98823529],\n",
       "         [0.99215686, 0.99607843, 0.98823529]],\n",
       "\n",
       "        [[0.75686275, 0.8627451 , 0.83921569],\n",
       "         [0.75294118, 0.85882353, 0.83529412],\n",
       "         [0.74509804, 0.85098039, 0.82745098],\n",
       "         ...,\n",
       "         [0.98039216, 0.98431373, 0.98431373],\n",
       "         [0.99215686, 0.99607843, 0.98823529],\n",
       "         [0.99215686, 0.99607843, 0.98823529]],\n",
       "\n",
       "        ...,\n",
       "\n",
       "        [[0.8745098 , 0.81960784, 0.94509804],\n",
       "         [0.87058824, 0.81176471, 0.9372549 ],\n",
       "         [0.85882353, 0.81176471, 0.92941176],\n",
       "         ...,\n",
       "         [0.43529412, 0.51764706, 0.79607843],\n",
       "         [0.41176471, 0.48235294, 0.77254902],\n",
       "         [0.38431373, 0.45098039, 0.75294118]],\n",
       "\n",
       "        [[0.85098039, 0.81176471, 0.92941176],\n",
       "         [0.85882353, 0.82352941, 0.9372549 ],\n",
       "         [0.87058824, 0.84313725, 0.94901961],\n",
       "         ...,\n",
       "         [0.4627451 , 0.54117647, 0.81960784],\n",
       "         [0.43921569, 0.52156863, 0.80392157],\n",
       "         [0.42352941, 0.50588235, 0.8       ]],\n",
       "\n",
       "        [[0.84313725, 0.81568627, 0.92156863],\n",
       "         [0.84705882, 0.82745098, 0.93333333],\n",
       "         [0.8627451 , 0.84705882, 0.94509804],\n",
       "         ...,\n",
       "         [0.4627451 , 0.54117647, 0.81568627],\n",
       "         [0.43137255, 0.5254902 , 0.80392157],\n",
       "         [0.41568627, 0.50980392, 0.79215686]]],\n",
       "\n",
       "\n",
       "       [[[1.        , 1.        , 1.        ],\n",
       "         [1.        , 1.        , 1.        ],\n",
       "         [1.        , 1.        , 1.        ],\n",
       "         ...,\n",
       "         [0.98431373, 1.        , 1.        ],\n",
       "         [0.98431373, 1.        , 1.        ],\n",
       "         [0.98431373, 1.        , 1.        ]],\n",
       "\n",
       "        [[1.        , 1.        , 1.        ],\n",
       "         [1.        , 1.        , 1.        ],\n",
       "         [1.        , 1.        , 1.        ],\n",
       "         ...,\n",
       "         [0.98431373, 1.        , 1.        ],\n",
       "         [0.98431373, 1.        , 1.        ],\n",
       "         [0.98431373, 1.        , 1.        ]],\n",
       "\n",
       "        [[1.        , 1.        , 1.        ],\n",
       "         [1.        , 1.        , 1.        ],\n",
       "         [1.        , 1.        , 1.        ],\n",
       "         ...,\n",
       "         [0.99215686, 0.99607843, 0.99607843],\n",
       "         [0.99215686, 0.99607843, 0.99607843],\n",
       "         [0.99215686, 0.99607843, 0.99607843]],\n",
       "\n",
       "        ...,\n",
       "\n",
       "        [[0.96470588, 1.        , 1.        ],\n",
       "         [0.98431373, 1.        , 1.        ],\n",
       "         [1.        , 1.        , 1.        ],\n",
       "         ...,\n",
       "         [0.4745098 , 0.30980392, 0.35294118],\n",
       "         [0.4745098 , 0.30980392, 0.35294118],\n",
       "         [0.47843137, 0.31372549, 0.35686275]],\n",
       "\n",
       "        [[0.97254902, 1.        , 1.        ],\n",
       "         [0.99215686, 1.        , 1.        ],\n",
       "         [1.        , 0.99607843, 1.        ],\n",
       "         ...,\n",
       "         [0.4627451 , 0.29803922, 0.34117647],\n",
       "         [0.45882353, 0.29411765, 0.3372549 ],\n",
       "         [0.46666667, 0.30196078, 0.34509804]],\n",
       "\n",
       "        [[0.98039216, 1.        , 1.        ],\n",
       "         [0.99607843, 1.        , 1.        ],\n",
       "         [1.        , 0.99607843, 1.        ],\n",
       "         ...,\n",
       "         [0.44313725, 0.27843137, 0.32156863],\n",
       "         [0.43529412, 0.27058824, 0.31372549],\n",
       "         [0.45098039, 0.28627451, 0.3254902 ]]],\n",
       "\n",
       "\n",
       "       ...,\n",
       "\n",
       "\n",
       "       [[[0.87058824, 0.85490196, 0.83529412],\n",
       "         [0.8627451 , 0.84705882, 0.82745098],\n",
       "         [0.85490196, 0.83921569, 0.82352941],\n",
       "         ...,\n",
       "         [0.85882353, 0.83921569, 0.83529412],\n",
       "         [0.85882353, 0.83921569, 0.83137255],\n",
       "         [0.85882353, 0.83921569, 0.82745098]],\n",
       "\n",
       "        [[0.87058824, 0.85490196, 0.83529412],\n",
       "         [0.8627451 , 0.84705882, 0.82745098],\n",
       "         [0.85490196, 0.83921569, 0.82352941],\n",
       "         ...,\n",
       "         [0.85882353, 0.83921569, 0.83529412],\n",
       "         [0.85882353, 0.83921569, 0.83137255],\n",
       "         [0.85882353, 0.83921569, 0.82745098]],\n",
       "\n",
       "        [[0.87058824, 0.85490196, 0.83529412],\n",
       "         [0.8627451 , 0.84705882, 0.82745098],\n",
       "         [0.85490196, 0.83921569, 0.82352941],\n",
       "         ...,\n",
       "         [0.85882353, 0.83921569, 0.83529412],\n",
       "         [0.85882353, 0.83921569, 0.83137255],\n",
       "         [0.85882353, 0.83921569, 0.82745098]],\n",
       "\n",
       "        ...,\n",
       "\n",
       "        [[0.96078431, 0.98039216, 0.97647059],\n",
       "         [0.97647059, 0.99607843, 0.99215686],\n",
       "         [0.95686275, 0.96862745, 0.96862745],\n",
       "         ...,\n",
       "         [1.        , 1.        , 1.        ],\n",
       "         [1.        , 1.        , 1.        ],\n",
       "         [1.        , 1.        , 1.        ]],\n",
       "\n",
       "        [[0.94901961, 0.96862745, 0.96470588],\n",
       "         [0.97647059, 0.99215686, 0.99215686],\n",
       "         [0.97254902, 0.98431373, 0.98431373],\n",
       "         ...,\n",
       "         [1.        , 1.        , 1.        ],\n",
       "         [1.        , 1.        , 1.        ],\n",
       "         [1.        , 1.        , 1.        ]],\n",
       "\n",
       "        [[0.98039216, 0.99607843, 0.99607843],\n",
       "         [0.97647059, 0.99607843, 0.99215686],\n",
       "         [0.97254902, 0.98039216, 0.98039216],\n",
       "         ...,\n",
       "         [1.        , 1.        , 1.        ],\n",
       "         [1.        , 1.        , 1.        ],\n",
       "         [1.        , 1.        , 1.        ]]],\n",
       "\n",
       "\n",
       "       [[[1.        , 1.        , 0.97254902],\n",
       "         [0.99607843, 1.        , 0.98823529],\n",
       "         [0.98823529, 1.        , 0.99215686],\n",
       "         ...,\n",
       "         [0.66666667, 0.69411765, 0.74509804],\n",
       "         [0.88627451, 0.90588235, 0.9372549 ],\n",
       "         [0.81176471, 0.82352941, 0.85490196]],\n",
       "\n",
       "        [[1.        , 1.        , 0.98039216],\n",
       "         [0.99607843, 1.        , 0.99215686],\n",
       "         [0.98431373, 0.99607843, 0.99607843],\n",
       "         ...,\n",
       "         [0.70588235, 0.74117647, 0.79215686],\n",
       "         [0.87843137, 0.90196078, 0.94117647],\n",
       "         [0.81176471, 0.83529412, 0.87058824]],\n",
       "\n",
       "        [[1.        , 1.        , 0.98823529],\n",
       "         [0.99215686, 1.        , 1.        ],\n",
       "         [0.98039216, 0.99607843, 1.        ],\n",
       "         ...,\n",
       "         [0.80784314, 0.85490196, 0.90980392],\n",
       "         [0.9372549 , 0.97647059, 1.        ],\n",
       "         [0.89803922, 0.9372549 , 0.96470588]],\n",
       "\n",
       "        ...,\n",
       "\n",
       "        [[1.        , 1.        , 0.99607843],\n",
       "         [1.        , 1.        , 0.99607843],\n",
       "         [0.99607843, 0.99607843, 0.99607843],\n",
       "         ...,\n",
       "         [0.82745098, 0.84705882, 0.84313725],\n",
       "         [0.94901961, 0.96470588, 0.96470588],\n",
       "         [0.94117647, 0.95686275, 0.95686275]],\n",
       "\n",
       "        [[1.        , 1.        , 1.        ],\n",
       "         [1.        , 1.        , 1.        ],\n",
       "         [0.99607843, 0.99607843, 0.99607843],\n",
       "         ...,\n",
       "         [0.62745098, 0.63529412, 0.63529412],\n",
       "         [0.90196078, 0.90980392, 0.90980392],\n",
       "         [0.99215686, 0.99607843, 0.99607843]],\n",
       "\n",
       "        [[1.        , 1.        , 1.        ],\n",
       "         [1.        , 1.        , 1.        ],\n",
       "         [0.99607843, 0.99607843, 0.99607843],\n",
       "         ...,\n",
       "         [0.98823529, 0.99215686, 0.98431373],\n",
       "         [0.98431373, 0.98431373, 0.97647059],\n",
       "         [0.99215686, 0.98823529, 0.98431373]]],\n",
       "\n",
       "\n",
       "       [[[0.8745098 , 0.86666667, 0.89019608],\n",
       "         [0.8745098 , 0.86666667, 0.89019608],\n",
       "         [0.8745098 , 0.86666667, 0.89019608],\n",
       "         ...,\n",
       "         [0.88235294, 0.8745098 , 0.89803922],\n",
       "         [0.88235294, 0.8745098 , 0.89803922],\n",
       "         [0.88235294, 0.8745098 , 0.89803922]],\n",
       "\n",
       "        [[0.8745098 , 0.86666667, 0.89019608],\n",
       "         [0.8745098 , 0.86666667, 0.89019608],\n",
       "         [0.8745098 , 0.86666667, 0.89019608],\n",
       "         ...,\n",
       "         [0.88235294, 0.8745098 , 0.89803922],\n",
       "         [0.88235294, 0.8745098 , 0.89803922],\n",
       "         [0.88235294, 0.8745098 , 0.89803922]],\n",
       "\n",
       "        [[0.8745098 , 0.86666667, 0.89019608],\n",
       "         [0.8745098 , 0.86666667, 0.89019608],\n",
       "         [0.8745098 , 0.86666667, 0.89019608],\n",
       "         ...,\n",
       "         [0.88235294, 0.8745098 , 0.89803922],\n",
       "         [0.88235294, 0.8745098 , 0.89803922],\n",
       "         [0.88235294, 0.8745098 , 0.89803922]],\n",
       "\n",
       "        ...,\n",
       "\n",
       "        [[0.57647059, 0.68627451, 0.88235294],\n",
       "         [0.57647059, 0.68627451, 0.88235294],\n",
       "         [0.57254902, 0.68627451, 0.87843137],\n",
       "         ...,\n",
       "         [0.83921569, 0.8745098 , 0.95294118],\n",
       "         [0.85098039, 0.87058824, 0.93333333],\n",
       "         [0.88627451, 0.89803922, 0.95294118]],\n",
       "\n",
       "        [[0.60784314, 0.70588235, 0.90196078],\n",
       "         [0.58039216, 0.68235294, 0.87843137],\n",
       "         [0.56078431, 0.6627451 , 0.85882353],\n",
       "         ...,\n",
       "         [0.84705882, 0.88235294, 0.94901961],\n",
       "         [0.8627451 , 0.88235294, 0.9372549 ],\n",
       "         [0.87058824, 0.87843137, 0.9254902 ]],\n",
       "\n",
       "        [[0.62745098, 0.71764706, 0.91372549],\n",
       "         [0.58823529, 0.67843137, 0.8745098 ],\n",
       "         [0.56078431, 0.65490196, 0.84705882],\n",
       "         ...,\n",
       "         [0.84705882, 0.87843137, 0.94117647],\n",
       "         [0.87058824, 0.89019608, 0.94117647],\n",
       "         [0.8627451 , 0.87058824, 0.91372549]]]])"
      ]
     },
     "execution_count": 50,
     "metadata": {},
     "output_type": "execute_result"
    }
   ],
   "source": [
    "X"
   ]
  },
  {
   "cell_type": "code",
   "execution_count": 51,
   "id": "68f8c967",
   "metadata": {},
   "outputs": [],
   "source": [
    "from sklearn.model_selection import train_test_split\n",
    "X_train, X_test, y_train, y_test = train_test_split(X, y, test_size = 0.2)"
   ]
  },
  {
   "cell_type": "code",
   "execution_count": 52,
   "id": "901f9d62",
   "metadata": {},
   "outputs": [
    {
     "data": {
      "text/plain": [
       "(1023, 224, 224, 3)"
      ]
     },
     "execution_count": 52,
     "metadata": {},
     "output_type": "execute_result"
    }
   ],
   "source": [
    "X_train.shape"
   ]
  },
  {
   "cell_type": "code",
   "execution_count": 53,
   "id": "5cd56c80",
   "metadata": {},
   "outputs": [
    {
     "data": {
      "text/plain": [
       "(256, 224, 224, 3)"
      ]
     },
     "execution_count": 53,
     "metadata": {},
     "output_type": "execute_result"
    }
   ],
   "source": [
    "X_test.shape"
   ]
  },
  {
   "cell_type": "code",
   "execution_count": 54,
   "id": "0929086e",
   "metadata": {},
   "outputs": [],
   "source": [
    "from keras.applications.vgg16 import VGG16"
   ]
  },
  {
   "cell_type": "code",
   "execution_count": 55,
   "id": "9a0efb61",
   "metadata": {},
   "outputs": [
    {
     "name": "stdout",
     "output_type": "stream",
     "text": [
      "Downloading data from https://storage.googleapis.com/tensorflow/keras-applications/vgg16/vgg16_weights_tf_dim_ordering_tf_kernels.h5\n",
      "553467096/553467096 [==============================] - 94s 0us/step\n"
     ]
    }
   ],
   "source": [
    "vgg = VGG16()"
   ]
  },
  {
   "cell_type": "code",
   "execution_count": 57,
   "id": "090ae68a",
   "metadata": {},
   "outputs": [
    {
     "name": "stdout",
     "output_type": "stream",
     "text": [
      "Model: \"vgg16\"\n",
      "_________________________________________________________________\n",
      " Layer (type)                Output Shape              Param #   \n",
      "=================================================================\n",
      " input_1 (InputLayer)        [(None, 224, 224, 3)]     0         \n",
      "                                                                 \n",
      " block1_conv1 (Conv2D)       (None, 224, 224, 64)      1792      \n",
      "                                                                 \n",
      " block1_conv2 (Conv2D)       (None, 224, 224, 64)      36928     \n",
      "                                                                 \n",
      " block1_pool (MaxPooling2D)  (None, 112, 112, 64)      0         \n",
      "                                                                 \n",
      " block2_conv1 (Conv2D)       (None, 112, 112, 128)     73856     \n",
      "                                                                 \n",
      " block2_conv2 (Conv2D)       (None, 112, 112, 128)     147584    \n",
      "                                                                 \n",
      " block2_pool (MaxPooling2D)  (None, 56, 56, 128)       0         \n",
      "                                                                 \n",
      " block3_conv1 (Conv2D)       (None, 56, 56, 256)       295168    \n",
      "                                                                 \n",
      " block3_conv2 (Conv2D)       (None, 56, 56, 256)       590080    \n",
      "                                                                 \n",
      " block3_conv3 (Conv2D)       (None, 56, 56, 256)       590080    \n",
      "                                                                 \n",
      " block3_pool (MaxPooling2D)  (None, 28, 28, 256)       0         \n",
      "                                                                 \n",
      " block4_conv1 (Conv2D)       (None, 28, 28, 512)       1180160   \n",
      "                                                                 \n",
      " block4_conv2 (Conv2D)       (None, 28, 28, 512)       2359808   \n",
      "                                                                 \n",
      " block4_conv3 (Conv2D)       (None, 28, 28, 512)       2359808   \n",
      "                                                                 \n",
      " block4_pool (MaxPooling2D)  (None, 14, 14, 512)       0         \n",
      "                                                                 \n",
      " block5_conv1 (Conv2D)       (None, 14, 14, 512)       2359808   \n",
      "                                                                 \n",
      " block5_conv2 (Conv2D)       (None, 14, 14, 512)       2359808   \n",
      "                                                                 \n",
      " block5_conv3 (Conv2D)       (None, 14, 14, 512)       2359808   \n",
      "                                                                 \n",
      " block5_pool (MaxPooling2D)  (None, 7, 7, 512)         0         \n",
      "                                                                 \n",
      " flatten (Flatten)           (None, 25088)             0         \n",
      "                                                                 \n",
      " fc1 (Dense)                 (None, 4096)              102764544 \n",
      "                                                                 \n",
      " fc2 (Dense)                 (None, 4096)              16781312  \n",
      "                                                                 \n",
      " predictions (Dense)         (None, 1000)              4097000   \n",
      "                                                                 \n",
      "=================================================================\n",
      "Total params: 138,357,544\n",
      "Trainable params: 138,357,544\n",
      "Non-trainable params: 0\n",
      "_________________________________________________________________\n"
     ]
    }
   ],
   "source": [
    "vgg.summary()"
   ]
  },
  {
   "cell_type": "code",
   "execution_count": 58,
   "id": "943ff244",
   "metadata": {},
   "outputs": [],
   "source": [
    "from keras import Sequential"
   ]
  },
  {
   "cell_type": "code",
   "execution_count": 59,
   "id": "f808028c",
   "metadata": {},
   "outputs": [],
   "source": [
    "model = Sequential()"
   ]
  },
  {
   "cell_type": "code",
   "execution_count": 60,
   "id": "c74b4460",
   "metadata": {},
   "outputs": [],
   "source": [
    "for layer in vgg.layers[:-1]:\n",
    "    model.add(layer)"
   ]
  },
  {
   "cell_type": "code",
   "execution_count": 61,
   "id": "22aa5bab",
   "metadata": {},
   "outputs": [
    {
     "name": "stdout",
     "output_type": "stream",
     "text": [
      "Model: \"sequential\"\n",
      "_________________________________________________________________\n",
      " Layer (type)                Output Shape              Param #   \n",
      "=================================================================\n",
      " block1_conv1 (Conv2D)       (None, 224, 224, 64)      1792      \n",
      "                                                                 \n",
      " block1_conv2 (Conv2D)       (None, 224, 224, 64)      36928     \n",
      "                                                                 \n",
      " block1_pool (MaxPooling2D)  (None, 112, 112, 64)      0         \n",
      "                                                                 \n",
      " block2_conv1 (Conv2D)       (None, 112, 112, 128)     73856     \n",
      "                                                                 \n",
      " block2_conv2 (Conv2D)       (None, 112, 112, 128)     147584    \n",
      "                                                                 \n",
      " block2_pool (MaxPooling2D)  (None, 56, 56, 128)       0         \n",
      "                                                                 \n",
      " block3_conv1 (Conv2D)       (None, 56, 56, 256)       295168    \n",
      "                                                                 \n",
      " block3_conv2 (Conv2D)       (None, 56, 56, 256)       590080    \n",
      "                                                                 \n",
      " block3_conv3 (Conv2D)       (None, 56, 56, 256)       590080    \n",
      "                                                                 \n",
      " block3_pool (MaxPooling2D)  (None, 28, 28, 256)       0         \n",
      "                                                                 \n",
      " block4_conv1 (Conv2D)       (None, 28, 28, 512)       1180160   \n",
      "                                                                 \n",
      " block4_conv2 (Conv2D)       (None, 28, 28, 512)       2359808   \n",
      "                                                                 \n",
      " block4_conv3 (Conv2D)       (None, 28, 28, 512)       2359808   \n",
      "                                                                 \n",
      " block4_pool (MaxPooling2D)  (None, 14, 14, 512)       0         \n",
      "                                                                 \n",
      " block5_conv1 (Conv2D)       (None, 14, 14, 512)       2359808   \n",
      "                                                                 \n",
      " block5_conv2 (Conv2D)       (None, 14, 14, 512)       2359808   \n",
      "                                                                 \n",
      " block5_conv3 (Conv2D)       (None, 14, 14, 512)       2359808   \n",
      "                                                                 \n",
      " block5_pool (MaxPooling2D)  (None, 7, 7, 512)         0         \n",
      "                                                                 \n",
      " flatten (Flatten)           (None, 25088)             0         \n",
      "                                                                 \n",
      " fc1 (Dense)                 (None, 4096)              102764544 \n",
      "                                                                 \n",
      " fc2 (Dense)                 (None, 4096)              16781312  \n",
      "                                                                 \n",
      "=================================================================\n",
      "Total params: 134,260,544\n",
      "Trainable params: 134,260,544\n",
      "Non-trainable params: 0\n",
      "_________________________________________________________________\n"
     ]
    }
   ],
   "source": [
    "model.summary()"
   ]
  },
  {
   "cell_type": "code",
   "execution_count": 62,
   "id": "1ccbeb26",
   "metadata": {},
   "outputs": [],
   "source": [
    "for layer in model.layers:\n",
    "    layer.trainable = False"
   ]
  },
  {
   "cell_type": "code",
   "execution_count": 64,
   "id": "d3442204",
   "metadata": {},
   "outputs": [
    {
     "name": "stdout",
     "output_type": "stream",
     "text": [
      "Model: \"sequential\"\n",
      "_________________________________________________________________\n",
      " Layer (type)                Output Shape              Param #   \n",
      "=================================================================\n",
      " block1_conv1 (Conv2D)       (None, 224, 224, 64)      1792      \n",
      "                                                                 \n",
      " block1_conv2 (Conv2D)       (None, 224, 224, 64)      36928     \n",
      "                                                                 \n",
      " block1_pool (MaxPooling2D)  (None, 112, 112, 64)      0         \n",
      "                                                                 \n",
      " block2_conv1 (Conv2D)       (None, 112, 112, 128)     73856     \n",
      "                                                                 \n",
      " block2_conv2 (Conv2D)       (None, 112, 112, 128)     147584    \n",
      "                                                                 \n",
      " block2_pool (MaxPooling2D)  (None, 56, 56, 128)       0         \n",
      "                                                                 \n",
      " block3_conv1 (Conv2D)       (None, 56, 56, 256)       295168    \n",
      "                                                                 \n",
      " block3_conv2 (Conv2D)       (None, 56, 56, 256)       590080    \n",
      "                                                                 \n",
      " block3_conv3 (Conv2D)       (None, 56, 56, 256)       590080    \n",
      "                                                                 \n",
      " block3_pool (MaxPooling2D)  (None, 28, 28, 256)       0         \n",
      "                                                                 \n",
      " block4_conv1 (Conv2D)       (None, 28, 28, 512)       1180160   \n",
      "                                                                 \n",
      " block4_conv2 (Conv2D)       (None, 28, 28, 512)       2359808   \n",
      "                                                                 \n",
      " block4_conv3 (Conv2D)       (None, 28, 28, 512)       2359808   \n",
      "                                                                 \n",
      " block4_pool (MaxPooling2D)  (None, 14, 14, 512)       0         \n",
      "                                                                 \n",
      " block5_conv1 (Conv2D)       (None, 14, 14, 512)       2359808   \n",
      "                                                                 \n",
      " block5_conv2 (Conv2D)       (None, 14, 14, 512)       2359808   \n",
      "                                                                 \n",
      " block5_conv3 (Conv2D)       (None, 14, 14, 512)       2359808   \n",
      "                                                                 \n",
      " block5_pool (MaxPooling2D)  (None, 7, 7, 512)         0         \n",
      "                                                                 \n",
      " flatten (Flatten)           (None, 25088)             0         \n",
      "                                                                 \n",
      " fc1 (Dense)                 (None, 4096)              102764544 \n",
      "                                                                 \n",
      " fc2 (Dense)                 (None, 4096)              16781312  \n",
      "                                                                 \n",
      "=================================================================\n",
      "Total params: 134,260,544\n",
      "Trainable params: 0\n",
      "Non-trainable params: 134,260,544\n",
      "_________________________________________________________________\n"
     ]
    }
   ],
   "source": [
    "model.summary()"
   ]
  },
  {
   "cell_type": "code",
   "execution_count": 65,
   "id": "73a29442",
   "metadata": {},
   "outputs": [],
   "source": [
    "from keras.layers import Dense"
   ]
  },
  {
   "cell_type": "code",
   "execution_count": 66,
   "id": "54bc60a2",
   "metadata": {},
   "outputs": [],
   "source": [
    "model.add(Dense(1, activation = 'sigmoid'))"
   ]
  },
  {
   "cell_type": "code",
   "execution_count": 67,
   "id": "f6a8dd2b",
   "metadata": {},
   "outputs": [
    {
     "name": "stdout",
     "output_type": "stream",
     "text": [
      "Model: \"sequential\"\n",
      "_________________________________________________________________\n",
      " Layer (type)                Output Shape              Param #   \n",
      "=================================================================\n",
      " block1_conv1 (Conv2D)       (None, 224, 224, 64)      1792      \n",
      "                                                                 \n",
      " block1_conv2 (Conv2D)       (None, 224, 224, 64)      36928     \n",
      "                                                                 \n",
      " block1_pool (MaxPooling2D)  (None, 112, 112, 64)      0         \n",
      "                                                                 \n",
      " block2_conv1 (Conv2D)       (None, 112, 112, 128)     73856     \n",
      "                                                                 \n",
      " block2_conv2 (Conv2D)       (None, 112, 112, 128)     147584    \n",
      "                                                                 \n",
      " block2_pool (MaxPooling2D)  (None, 56, 56, 128)       0         \n",
      "                                                                 \n",
      " block3_conv1 (Conv2D)       (None, 56, 56, 256)       295168    \n",
      "                                                                 \n",
      " block3_conv2 (Conv2D)       (None, 56, 56, 256)       590080    \n",
      "                                                                 \n",
      " block3_conv3 (Conv2D)       (None, 56, 56, 256)       590080    \n",
      "                                                                 \n",
      " block3_pool (MaxPooling2D)  (None, 28, 28, 256)       0         \n",
      "                                                                 \n",
      " block4_conv1 (Conv2D)       (None, 28, 28, 512)       1180160   \n",
      "                                                                 \n",
      " block4_conv2 (Conv2D)       (None, 28, 28, 512)       2359808   \n",
      "                                                                 \n",
      " block4_conv3 (Conv2D)       (None, 28, 28, 512)       2359808   \n",
      "                                                                 \n",
      " block4_pool (MaxPooling2D)  (None, 14, 14, 512)       0         \n",
      "                                                                 \n",
      " block5_conv1 (Conv2D)       (None, 14, 14, 512)       2359808   \n",
      "                                                                 \n",
      " block5_conv2 (Conv2D)       (None, 14, 14, 512)       2359808   \n",
      "                                                                 \n",
      " block5_conv3 (Conv2D)       (None, 14, 14, 512)       2359808   \n",
      "                                                                 \n",
      " block5_pool (MaxPooling2D)  (None, 7, 7, 512)         0         \n",
      "                                                                 \n",
      " flatten (Flatten)           (None, 25088)             0         \n",
      "                                                                 \n",
      " fc1 (Dense)                 (None, 4096)              102764544 \n",
      "                                                                 \n",
      " fc2 (Dense)                 (None, 4096)              16781312  \n",
      "                                                                 \n",
      " dense (Dense)               (None, 1)                 4097      \n",
      "                                                                 \n",
      "=================================================================\n",
      "Total params: 134,264,641\n",
      "Trainable params: 4,097\n",
      "Non-trainable params: 134,260,544\n",
      "_________________________________________________________________\n"
     ]
    }
   ],
   "source": [
    "model.summary()"
   ]
  },
  {
   "cell_type": "code",
   "execution_count": 68,
   "id": "62ab0195",
   "metadata": {},
   "outputs": [],
   "source": [
    "model.compile(optimizer = 'Adam', loss = 'binary_crossentropy', metrics = ['accuracy'])"
   ]
  },
  {
   "cell_type": "code",
   "execution_count": 70,
   "id": "105a2929",
   "metadata": {},
   "outputs": [
    {
     "name": "stdout",
     "output_type": "stream",
     "text": [
      "Epoch 1/5\n",
      "32/32 [==============================] - 237s 7s/step - loss: 0.6171 - accuracy: 0.6413 - val_loss: 0.4564 - val_accuracy: 0.8281\n",
      "Epoch 2/5\n",
      "32/32 [==============================] - 113s 3s/step - loss: 0.3737 - accuracy: 0.8847 - val_loss: 0.3045 - val_accuracy: 0.9297\n",
      "Epoch 3/5\n",
      "32/32 [==============================] - 96s 3s/step - loss: 0.2740 - accuracy: 0.9238 - val_loss: 0.2467 - val_accuracy: 0.9297\n",
      "Epoch 4/5\n",
      "32/32 [==============================] - 97s 3s/step - loss: 0.2351 - accuracy: 0.9267 - val_loss: 0.2172 - val_accuracy: 0.9414\n",
      "Epoch 5/5\n",
      "32/32 [==============================] - 99s 3s/step - loss: 0.1993 - accuracy: 0.9433 - val_loss: 0.1822 - val_accuracy: 0.9570\n"
     ]
    },
    {
     "data": {
      "text/plain": [
       "<keras.callbacks.History at 0x29345f223b0>"
      ]
     },
     "execution_count": 70,
     "metadata": {},
     "output_type": "execute_result"
    }
   ],
   "source": [
    "model.fit(X_train, y_train, epochs = 5, validation_data = (X_test, y_test))"
   ]
  },
  {
   "cell_type": "code",
   "execution_count": 90,
   "id": "ecf378ae",
   "metadata": {},
   "outputs": [],
   "source": [
    "def detect_face_mask(img):\n",
    "    y_pred = np.argmax(model.predict(img.reshape(1,224,224,3)), axis=-1)\n",
    "    return y_pred"
   ]
  },
  {
   "cell_type": "code",
   "execution_count": 96,
   "id": "960b2898",
   "metadata": {},
   "outputs": [],
   "source": [
    "sample1 = cv2.imread('sample/pexels-andrea-piacquadio-774909.jpg')\n",
    "sample1 = cv2.resize(sample1, (224,224))"
   ]
  },
  {
   "cell_type": "code",
   "execution_count": 97,
   "id": "2fc4b4d9",
   "metadata": {},
   "outputs": [
    {
     "name": "stdout",
     "output_type": "stream",
     "text": [
      "1/1 [==============================] - 0s 102ms/step\n"
     ]
    },
    {
     "data": {
      "text/plain": [
       "array([0], dtype=int64)"
      ]
     },
     "execution_count": 97,
     "metadata": {},
     "output_type": "execute_result"
    }
   ],
   "source": [
    "detect_face_mask(sample1)"
   ]
  },
  {
   "cell_type": "code",
   "execution_count": null,
   "id": "084e815f",
   "metadata": {},
   "outputs": [],
   "source": []
  }
 ],
 "metadata": {
  "kernelspec": {
   "display_name": "Python 3 (ipykernel)",
   "language": "python",
   "name": "python3"
  },
  "language_info": {
   "codemirror_mode": {
    "name": "ipython",
    "version": 3
   },
   "file_extension": ".py",
   "mimetype": "text/x-python",
   "name": "python",
   "nbconvert_exporter": "python",
   "pygments_lexer": "ipython3",
   "version": "3.10.7"
  }
 },
 "nbformat": 4,
 "nbformat_minor": 5
}
